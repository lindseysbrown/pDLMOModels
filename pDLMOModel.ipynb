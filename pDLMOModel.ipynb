{
 "cells": [
  {
   "cell_type": "code",
   "execution_count": null,
   "metadata": {},
   "outputs": [],
   "source": [
    "#imports\n",
    "import numpy as np\n",
    "import matplotlib.pyplot as plt\n",
    "%matplotlib inline\n",
    "import scipy as sp\n",
    "import os\n",
    "import pandas as pd\n",
    "\n",
    "from keras.models import Model, Sequential\n",
    "from keras.layers import Dense, Input, Dropout, LSTM\n",
    "import keras as kr\n",
    "\n",
    "from keras import layers\n",
    "from keras import models\n",
    "from keras.utils import np_utils"
   ]
  },
  {
   "cell_type": "markdown",
   "metadata": {
    "collapsed": true
   },
   "source": [
    "## Load Data\n",
    "Data has been normalized by subject."
   ]
  },
  {
   "cell_type": "code",
   "execution_count": null,
   "metadata": {},
   "outputs": [],
   "source": [
    "#load train test split\n",
    "train = np.load('sttrainingindices.npy')\n",
    "test = np.load('sttestingindices.npy')"
   ]
  },
  {
   "cell_type": "code",
   "execution_count": null,
   "metadata": {},
   "outputs": [],
   "source": [
    "#load all data\n",
    "DLMO = np.load('DLMO.npy') #file containing true DLMO\n",
    "zcmfeats = np.load('zcmfeats.npy') #file containing 24 h of minute by minute activity data for each subject in zero crossings mode\n",
    "lightfeatsavg = np.load('lightfeatsavg.npy') #file containing 24 h of minute by minute light data for each subject\n",
    "\n",
    "#split into train and test sets\n",
    "DLMOtrain = DLMO[train]\n",
    "DLMOtest = DLMO[test]\n",
    "\n",
    "lightmaxtest = lightfeatsmax[test]\n",
    "lightmaxtrain = lightfeatsmax[train]\n",
    "lightavgtest = lightfeatsavg[test]\n",
    "lightavgtrain = lightfeatsavg[train]\n",
    "zcmtest = zcmfeats[test]\n",
    "zcmtrain = zcmfeats[train]"
   ]
  },
  {
   "cell_type": "markdown",
   "metadata": {},
   "source": [
    "## Make Classification Problem"
   ]
  },
  {
   "cell_type": "code",
   "execution_count": null,
   "metadata": {},
   "outputs": [],
   "source": [
    "def getidx(dlmo):\n",
    "    '''get index just before where DLMO occurs'''\n",
    "    dlmo = dlmo % 24\n",
    "    inds30 = np.arange(0, 24, .5)\n",
    "    inds15 = np.arange(0, 24, .25)\n",
    "    before = np.where(inds30<dlmo)[0][-1]\n",
    "    before15 = np.where(inds15<dlmo)[0][-1]\n",
    "    return before, before15"
   ]
  },
  {
   "cell_type": "code",
   "execution_count": null,
   "metadata": {},
   "outputs": [],
   "source": [
    "def builddata(idx, data):\n",
    "    '''build classification set with wrapped data from 6 h before and 6 h after DLMO'''\n",
    "    numidx = int(6*len(data)/24) #total number of indices to shift in each direction for 6h centered data\n",
    "    newdata = np.zeros((2*numidx, len(data)))\n",
    "    datawrap = np.concatenate((data, data, data))\n",
    "    for i in range(-numidx+idx+1, numidx+idx+1):\n",
    "        if i<0:\n",
    "            newdata[i+numidx-idx-1, :] = np.concatenate((data[i:], data[:i+len(data)]))\n",
    "        else:\n",
    "            newdata[i+numidx-idx-1, :] = datawrap[i:i+len(data)]\n",
    "    return newdata"
   ]
  },
  {
   "cell_type": "code",
   "execution_count": null,
   "metadata": {},
   "outputs": [],
   "source": [
    "#build datasets\n",
    "def buildclassificationset(dataset, training = True, fifteen = False):\n",
    "    subs, feats = np.shape(dataset)\n",
    "    numidx = int(6*feats/24)\n",
    "    subjclass = np.zeros((1, feats))\n",
    "    for (i, data) in enumerate(dataset):\n",
    "        if training:\n",
    "            dlmo = DLMOtrain[i]\n",
    "        else:\n",
    "            dlmo = DLMOtest[i]\n",
    "        idx = getidx(dlmo)[1*fifteen]\n",
    "        subjclass = np.concatenate((subjclass, builddata(idx, data)))\n",
    "    subjclass = subjclass[1:]\n",
    "    return subjclass"
   ]
  },
  {
   "cell_type": "code",
   "execution_count": null,
   "metadata": {},
   "outputs": [],
   "source": [
    "#classification datasets for periodic features\n",
    "zcmclasstrain = buildclassificationset(zcmtrain)\n",
    "zcmclasstest = buildclassificationset(zcmtest, training=False)\n",
    "lightclasstrain = buildclassificationset(lightavgtrain)\n",
    "lightclasstest = buildclassificationset(lightavgtest, training=False)"
   ]
  },
  {
   "cell_type": "code",
   "execution_count": null,
   "metadata": {},
   "outputs": [],
   "source": [
    "def replicate(dataset, n):\n",
    "    return np.repeat(dataset, n, axis = 0)"
   ]
  },
  {
   "cell_type": "code",
   "execution_count": null,
   "metadata": {},
   "outputs": [],
   "source": [
    "#make class vector\n",
    "subjclass = np.concatenate((np.zeros(12), np.ones(12)))\n",
    "outclasstrain = np.tile(subjclass, len(DLMOtrain))\n",
    "outclasstest = np.tile(subjclass, len(DLMOtest))"
   ]
  },
  {
   "cell_type": "markdown",
   "metadata": {},
   "source": [
    "## Set Up Cross Validation"
   ]
  },
  {
   "cell_type": "code",
   "execution_count": null,
   "metadata": {},
   "outputs": [],
   "source": [
    "#combine to make activity and light dataset\n",
    "trainzcmlight = np.concatenate((zcmclasstrain, lightclasstrain), axis=1)\n",
    "testzcmlight = np.concatenate((zcmclasstest, lightclasstest), axis=1)"
   ]
  },
  {
   "cell_type": "code",
   "execution_count": null,
   "metadata": {},
   "outputs": [],
   "source": [
    "def getCV(traindata, trainout):\n",
    "    featsholdout = np.array_split(traindata, 10)\n",
    "    outsholdout = np.array_split(trainout, 10)\n",
    "    featsin = [None]*10\n",
    "    outsin = [None]*10\n",
    "    for j in range(10):\n",
    "        for k in range(10):\n",
    "            if k != j:\n",
    "                if np.shape(featsin[j])==():\n",
    "                    featsin[j] = featsholdout[k]\n",
    "                    outsin[j] = outsholdout[k]\n",
    "                else:\n",
    "                    featsin[j] = np.concatenate((featsin[j], featsholdout[k]), axis = 0)\n",
    "                    outsin[j] = np.concatenate((outsin[j], outsholdout[k]), axis = 0)\n",
    "    return featsholdout, outsholdout, featsin, outsin"
   ]
  },
  {
   "cell_type": "code",
   "execution_count": null,
   "metadata": {},
   "outputs": [],
   "source": [
    "#get crossvalidation splits for each data set\n",
    "valinszcmlight, valoutszcmlight, traininszcmlight, trainoutszcmlight = getCV(trainzcmlight, outclasstrain)\n",
    "valinszcm, valoutszcm, traininszcm, trainoutszcm = getCV(zcmclasstrain, outclasstrain)"
   ]
  },
  {
   "cell_type": "markdown",
   "metadata": {},
   "source": [
    "## Two Layer Model with Dropout"
   ]
  },
  {
   "cell_type": "code",
   "execution_count": null,
   "metadata": {},
   "outputs": [],
   "source": [
    "def twolayerdropout(nodes1, nodes2, p, trainin, trainout, valin, valout, epochs, epochtest, method, test=False):\n",
    "    insize = np.shape(trainin)[1]\n",
    "    model = models.Sequential()\n",
    "    model.add(Dropout(p, input_shape = (insize,)))\n",
    "    model.add(Dense(nodes1, activation = 'relu'))\n",
    "    model.add(Dropout(p))\n",
    "    model.add(Dense(nodes2, activation = 'relu'))\n",
    "    model.add(Dropout(p))\n",
    "    model.add(Dense(1, activation = 'sigmoid'))\n",
    "    model.compile(optimizer=method, loss='binary_crossentropy', metrics = ['accuracy'])\n",
    "    if epochtest:\n",
    "        history = model.fit(trainin, trainout, epochs = epochs, validation_data=(valin,valout), verbose = 0)\n",
    "        return history.history['loss'], history.history['val_loss']\n",
    "    model.fit(trainin, trainout, epochs = epochs, verbose = 0)\n",
    "    if test:\n",
    "        return model.predict(valin), model.evaluate(valin, valout, verbose=0)[1]\n",
    "    return model.evaluate(valin, valout, verbose=0)[1]"
   ]
  },
  {
   "cell_type": "markdown",
   "metadata": {},
   "source": [
    "### Testing"
   ]
  },
  {
   "cell_type": "code",
   "execution_count": null,
   "metadata": {},
   "outputs": [],
   "source": [
    "outszcmlightDLD, perfzcmlightDLD = twolayerdropout(40, 40, .4, trainzcmlight, outclasstrain, testzcmlight, outclasstest, 100, False, kr.optimizers.sgd(lr=.001), test=True)\n",
    "print(perfzcmlight)"
   ]
  },
  {
   "cell_type": "code",
   "execution_count": null,
   "metadata": {},
   "outputs": [],
   "source": [
    "outszcmlightDLDtrain, perfzcmlightDLDtrain = twolayerdropout(40, 40, .4, trainzcmlight, outclasstrain, trainzcmlight, outclasstrain, 100, False, kr.optimizers.sgd(lr=.001), test=True)\n",
    "print(perfzcmlightDLDtrain)"
   ]
  },
  {
   "cell_type": "markdown",
   "metadata": {
    "collapsed": true
   },
   "source": [
    "# Error Analysis"
   ]
  },
  {
   "cell_type": "code",
   "execution_count": null,
   "metadata": {},
   "outputs": [],
   "source": [
    "#get under/over values for DLMO switch times\n",
    "def overunder(num): #get distance over/under .5\n",
    "    if num>.5:\n",
    "        num = num -.5\n",
    "    zero_error = abs(.25-num)\n",
    "    over_error = .25-num\n",
    "    under_error = num-.25\n",
    "    return zero_error, over_error, under_error\n",
    "\n",
    "#convert to decimal\n",
    "DLMOtrain_dec = DLMOtrain%1\n",
    "DLMOtest_dec = DLMOtest%1\n",
    "\n",
    "trainovers = np.zeros(len(DLMOtrain))\n",
    "trainunders = np.zeros(len(DLMOtrain))\n",
    "trainzeros = np.zeros(len(DLMOtrain))\n",
    "testovers = np.zeros(len(DLMOtest))\n",
    "testunders = np.zeros(len(DLMOtest))\n",
    "testzeros = np.zeros(len(DLMOtest))\n",
    "for i, num in enumerate(DLMOtrain_dec):\n",
    "    z, o, u = overunder(num)\n",
    "    trainovers[i] = o\n",
    "    trainunders[i] = u\n",
    "    trainzeros[i] = z\n",
    "    \n",
    "for i, num in enumerate(DLMOtest_dec):\n",
    "    z, o, u = overunder(num)\n",
    "    testovers[i] = o\n",
    "    testunders[i] = u\n",
    "    testzeros[i] = z"
   ]
  },
  {
   "cell_type": "code",
   "execution_count": null,
   "metadata": {},
   "outputs": [],
   "source": [
    "def getswitch(outs):\n",
    "    outs = np.round(outs).reshape((-1, 24)).T\n",
    "    predswitch = []\n",
    "    for i in range(np.shape(outs)[1]):\n",
    "        predswitch.append(np.where(outs[:, i]==1)[0][0])\n",
    "    return np.array(predswitch)"
   ]
  },
  {
   "cell_type": "code",
   "execution_count": null,
   "metadata": {},
   "outputs": [],
   "source": [
    "def get_error(indexoutput, correctzero, correctunder, correctover):\n",
    "    index_error = indexoutput - 12 #correct prediction is 12\n",
    "    errors = np.zeros(len(indexoutput))\n",
    "    for i, e in enumerate(index_error):\n",
    "        if e == 0:\n",
    "            errors[i] = correctzero[i]\n",
    "        elif e>0:\n",
    "            errors[i] = .5*e+correctover[i]\n",
    "        else:\n",
    "            \n",
    "            errors[i] = .5*np.abs(e)+correctunder[i]\n",
    "    return errors"
   ]
  },
  {
   "cell_type": "code",
   "execution_count": null,
   "metadata": {},
   "outputs": [],
   "source": [
    "def get_signed_error(indexoutput, correctzero, correctunder, correctover):\n",
    "    index_error = indexoutput - 12 #correct prediction is 12\n",
    "    errors = np.zeros(len(indexoutput))\n",
    "    for i, e in enumerate(index_error):\n",
    "        if e == 0:\n",
    "            errors[i] = correctzero[i]\n",
    "        elif e>0:\n",
    "            errors[i] = .5*e+correctover[i]\n",
    "        else:\n",
    "            \n",
    "            errors[i] = -1*(.5*np.abs(e)+correctunder[i])\n",
    "    return errors"
   ]
  },
  {
   "cell_type": "code",
   "execution_count": null,
   "metadata": {},
   "outputs": [],
   "source": [
    "#get errors from different models\n",
    "#for testing set\n",
    "predstest = [outszcmlightDLD]\n",
    "\n",
    "errors = np.zeros((len(DLMOtest), len(predstest)))\n",
    "\n",
    "for i, p in enumerate(predstest):\n",
    "    pred_index = getswitch(p)\n",
    "    errors[:, i] = get_signed_error(pred_index, testzeros, testunders, testovers)\n",
    "\n",
    "\n",
    "#for training set\n",
    "predstrain = [outszcmlightDLDtrain]\n",
    "\n",
    "errorstrain = np.zeros((len(DLMOtrain), len(predstrain)))\n",
    "\n",
    "for i, p in enumerate(predstrain):\n",
    "    pred_index = getswitch(p)\n",
    "    errorstrain[:, i] = get_signed_error(pred_index, trainzeros, trainunders, trainovers)\n",
    "    \n",
    "predictedDLMOtrain = np.zeros((len(DLMOtrain), len(predstrain)))\n",
    "predictedDLMOtest = np.zeros((len(DLMOtest), len(predstest)))\n",
    "\n",
    "for i, p in enumerate(predstrain):\n",
    "    predictedDLMOtrain[:, i] = DLMOtrain + errorstrain[:, i]\n",
    "    predictedDLMOtest[:, i] = DLMOtest + errors[:, i]"
   ]
  },
  {
   "cell_type": "code",
   "execution_count": null,
   "metadata": {},
   "outputs": [],
   "source": [
    "def get_RMSE(errors):\n",
    "    methodRMSE = np.zeros(np.shape(errors)[1])\n",
    "    for i in range(np.shape(errors)[1]):\n",
    "        methodRMSE[i] = np.sqrt(np.mean(errors[:, i]**2))\n",
    "    return methodRMSE\n",
    "        "
   ]
  },
  {
   "cell_type": "code",
   "execution_count": null,
   "metadata": {},
   "outputs": [],
   "source": [
    "RMSEs = get_RMSE(errors)"
   ]
  },
  {
   "cell_type": "code",
   "execution_count": null,
   "metadata": {},
   "outputs": [],
   "source": [
    "accuracies = 100*np.array([doubleDO_acc])"
   ]
  },
  {
   "cell_type": "code",
   "execution_count": null,
   "metadata": {},
   "outputs": [],
   "source": [
    "predictedDLMOtrain = np.zeros((len(DLMOtrain), len(predstrain)))\n",
    "predictedDLMOtest = np.zeros((len(DLMOtest), len(predstest)))\n",
    "\n",
    "for i, p in enumerate(predstrain):\n",
    "    predictedDLMOtrain[:, i] = DLMOtrain + errorstrain[:, i]\n",
    "    predictedDLMOtest[:, i] = DLMOtest + errors[:, i]"
   ]
  }
 ],
 "metadata": {
  "kernelspec": {
   "display_name": "Python 3",
   "language": "python",
   "name": "python3"
  },
  "language_info": {
   "codemirror_mode": {
    "name": "ipython",
    "version": 3
   },
   "file_extension": ".py",
   "mimetype": "text/x-python",
   "name": "python",
   "nbconvert_exporter": "python",
   "pygments_lexer": "ipython3",
   "version": "3.8.8"
  }
 },
 "nbformat": 4,
 "nbformat_minor": 2
}
